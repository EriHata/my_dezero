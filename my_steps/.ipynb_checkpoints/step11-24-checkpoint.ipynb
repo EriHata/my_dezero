{
 "cells": [
  {
   "cell_type": "markdown",
   "metadata": {},
   "source": [
    "### 可変長引数を取れるようにFunctionクラスを修正"
   ]
  },
  {
   "cell_type": "code",
   "execution_count": 1,
   "metadata": {},
   "outputs": [],
   "source": [
    "import numpy as np"
   ]
  },
  {
   "cell_type": "code",
   "execution_count": 2,
   "metadata": {},
   "outputs": [],
   "source": [
    "def as_array(x):\n",
    "    if np.isscalar(x):\n",
    "        return np.array(x)\n",
    "    return x\n",
    "\n",
    "\n",
    "class Function:\n",
    "    def __call__(self, inputs):\n",
    "        xs = [x.data for x in inputs]\n",
    "        ys = self.forward(xs)\n",
    "        outputs = [Variable(as_array(y)) for y in ys]\n",
    "        \n",
    "        for output in outputs:\n",
    "            output.set_creator(self)\n",
    "        self.inputs = inputs\n",
    "        self.outputs = outputs\n",
    "        \n",
    "        return outputs\n",
    "    \n",
    "    def forward(self, xs):\n",
    "        raise NotImplementedError()\n",
    "        \n",
    "    def backward(self, gys):\n",
    "        raise NotImplementedError()"
   ]
  },
  {
   "cell_type": "code",
   "execution_count": 3,
   "metadata": {},
   "outputs": [],
   "source": [
    "class Variable:\n",
    "    def __init__(self, data):\n",
    "        # 例外処理を入れる　ndarray以外のものが入ったらTypeError\n",
    "        if data is not None:\n",
    "            if not isinstance(data, np.ndarray):\n",
    "                raise TypeError('{} is not supported'.format(type(data)))\n",
    "        \n",
    "        self.data = data\n",
    "        self.grad = None\n",
    "        self.creator = None\n",
    "    \n",
    "    def set_creator(self, func):\n",
    "        self.creator = func\n",
    "\n",
    "    def backward(self):\n",
    "        if self.grad == None:\n",
    "            self.grad = np.ones_like(self.data)\n",
    "        \n",
    "        funcs = [self.creator]\n",
    "        \n",
    "        while funcs:\n",
    "            f = funcs.pop()  \n",
    "            x, y = f.input, f.output  \n",
    "            x.grad = f.backward(y.grad)  \n",
    "            \n",
    "            if x.creator is not None:\n",
    "                funcs.append(x.creator)  # add the creator of the previous function to  the list\n"
   ]
  },
  {
   "cell_type": "markdown",
   "metadata": {},
   "source": [
    "### Addクラスの実装"
   ]
  },
  {
   "cell_type": "code",
   "execution_count": 4,
   "metadata": {},
   "outputs": [],
   "source": [
    "class Add(Function):\n",
    "    def forward(self, xs):\n",
    "        x0, x1 = xs\n",
    "        y = x0 + x1\n",
    "        return (y,)"
   ]
  },
  {
   "cell_type": "code",
   "execution_count": 5,
   "metadata": {},
   "outputs": [
    {
     "name": "stdout",
     "output_type": "stream",
     "text": [
      "5.0\n"
     ]
    }
   ],
   "source": [
    "xs = [Variable(np.array(2.0)), Variable(np.array(3.0))]\n",
    "f = Add()\n",
    "ys = f(xs)  # ysはタプル\n",
    "y = ys[0]  # ysはVariableインスタンスのリスト\n",
    "print(y.data)"
   ]
  },
  {
   "cell_type": "markdown",
   "metadata": {},
   "source": [
    "### 改善点①"
   ]
  },
  {
   "cell_type": "code",
   "execution_count": 6,
   "metadata": {},
   "outputs": [],
   "source": [
    "class Function:\n",
    "    def __call__(self, *inputs):  # アスタリスク\n",
    "        xs = [x.data for x in inputs]\n",
    "        ys = self.forward(xs)\n",
    "        outputs = [Variable(as_array(y)) for y in ys]\n",
    "        \n",
    "        for output in outputs:\n",
    "            output.set_creator(self)\n",
    "        self.inputs = inputs\n",
    "        self.outputs = outputs\n",
    "        \n",
    "        # リストの要素が一つのときは最初の要素を返す\n",
    "        return outputs if len(outputs) > 1 else outputs[0]\n",
    "        # return outputs\n",
    "    \n",
    "    def forward(self, xs):\n",
    "        raise NotImplementedError()\n",
    "        \n",
    "    def backward(self, gys):\n",
    "        raise NotImplementedError()"
   ]
  },
  {
   "cell_type": "code",
   "execution_count": 7,
   "metadata": {},
   "outputs": [
    {
     "name": "stdout",
     "output_type": "stream",
     "text": [
      "(1, 2, 3)\n",
      "<class 'tuple'>\n",
      "(1, 2, 4, 7777)\n",
      "<class 'tuple'>\n"
     ]
    }
   ],
   "source": [
    "def f(*x):  # アスタリスクをつけることで任意の数の引数を取ることができる  tupleで渡されるよう\n",
    "    print(x)\n",
    "    print(type(x))\n",
    "    \n",
    "f(1, 2, 3)\n",
    "f(1, 2, 4,7777)"
   ]
  },
  {
   "cell_type": "code",
   "execution_count": 8,
   "metadata": {},
   "outputs": [
    {
     "ename": "TypeError",
     "evalue": "__call__() takes 2 positional arguments but 3 were given",
     "output_type": "error",
     "traceback": [
      "\u001b[0;31m---------------------------------------------------------------------------\u001b[0m",
      "\u001b[0;31mTypeError\u001b[0m                                 Traceback (most recent call last)",
      "\u001b[0;32m<ipython-input-8-73461605e32f>\u001b[0m in \u001b[0;36m<module>\u001b[0;34m\u001b[0m\n\u001b[1;32m      2\u001b[0m \u001b[0mx1\u001b[0m \u001b[0;34m=\u001b[0m \u001b[0mVariable\u001b[0m\u001b[0;34m(\u001b[0m\u001b[0mnp\u001b[0m\u001b[0;34m.\u001b[0m\u001b[0marray\u001b[0m\u001b[0;34m(\u001b[0m\u001b[0;36m3\u001b[0m\u001b[0;34m)\u001b[0m\u001b[0;34m)\u001b[0m\u001b[0;34m\u001b[0m\u001b[0;34m\u001b[0m\u001b[0m\n\u001b[1;32m      3\u001b[0m \u001b[0mf\u001b[0m \u001b[0;34m=\u001b[0m \u001b[0mAdd\u001b[0m\u001b[0;34m(\u001b[0m\u001b[0;34m)\u001b[0m\u001b[0;34m\u001b[0m\u001b[0;34m\u001b[0m\u001b[0m\n\u001b[0;32m----> 4\u001b[0;31m \u001b[0my\u001b[0m \u001b[0;34m=\u001b[0m \u001b[0mf\u001b[0m\u001b[0;34m(\u001b[0m\u001b[0mx0\u001b[0m\u001b[0;34m,\u001b[0m \u001b[0mx1\u001b[0m\u001b[0;34m)\u001b[0m\u001b[0;34m\u001b[0m\u001b[0;34m\u001b[0m\u001b[0m\n\u001b[0m\u001b[1;32m      5\u001b[0m \u001b[0mprint\u001b[0m\u001b[0;34m(\u001b[0m\u001b[0my\u001b[0m\u001b[0;34m.\u001b[0m\u001b[0mdata\u001b[0m\u001b[0;34m)\u001b[0m   \u001b[0;31m# 帰ってくるのはVariableインスタンスなので値は取り出さないといけない\u001b[0m\u001b[0;34m\u001b[0m\u001b[0;34m\u001b[0m\u001b[0m\n",
      "\u001b[0;31mTypeError\u001b[0m: __call__() takes 2 positional arguments but 3 were given"
     ]
    }
   ],
   "source": [
    "x0 = Variable(np.array(2))\n",
    "x1 = Variable(np.array(3))\n",
    "f = Add()\n",
    "y = f(x0, x1)\n",
    "print(y.data)   # 帰ってくるのはVariableインスタンスなので値は取り出さないといけない"
   ]
  },
  {
   "cell_type": "markdown",
   "metadata": {},
   "source": [
    "### 改善点②"
   ]
  },
  {
   "cell_type": "code",
   "execution_count": 9,
   "metadata": {},
   "outputs": [],
   "source": []
  },
  {
   "cell_type": "code",
   "execution_count": 34,
   "metadata": {},
   "outputs": [],
   "source": [
    "class Function:\n",
    "    def __call__(self, *inputs):   # *inputsは可変長（何個でもいい）のVariableインスタンス\n",
    "        xs = [x.data for x in inputs]\n",
    "        print(xs)\n",
    "        ys = self.forward(*xs)  # アスタリスクをつけてアンパッキング\n",
    "        if not isinstance(ys, tuple):# tupleではない場合の追加対応  tupleにしておくことでlenが取れる\n",
    "            ys = (ys,)\n",
    "        outputs = [Variable(as_array(y)) for y in ys]\n",
    "        \n",
    "        for output in outputs:\n",
    "            output.set_creator(self)\n",
    "        self.inputs = inputs\n",
    "        self.outputs = outputs\n",
    "                \n",
    "        return outputs if len(outputs) > 1 else outputs[0]\n",
    "\n",
    "    \n",
    "    def forward(self, xs):\n",
    "        raise NotImplementedError()\n",
    "        \n",
    "    def backward(self, gys):\n",
    "        raise NotImplementedError()"
   ]
  },
  {
   "cell_type": "code",
   "execution_count": 35,
   "metadata": {},
   "outputs": [],
   "source": [
    "class Add(Function):\n",
    "    def forward(self, x0, x1):\n",
    "        # x0, x1 = xs\n",
    "        y = x0 + x1\n",
    "        # yのまま返していい\n",
    "        return y"
   ]
  },
  {
   "cell_type": "code",
   "execution_count": 36,
   "metadata": {},
   "outputs": [],
   "source": [
    "def add(x0, x1):\n",
    "    return Add()(x0, x1)"
   ]
  },
  {
   "cell_type": "code",
   "execution_count": 37,
   "metadata": {},
   "outputs": [
    {
     "name": "stdout",
     "output_type": "stream",
     "text": [
      "[array(2), array(3)]\n",
      "5\n"
     ]
    }
   ],
   "source": [
    "x0=Variable(np.array(2))\n",
    "x1=Variable(np.array(3))\n",
    "\n",
    "y = add(x0, x1)\n",
    "print(y.data)  # 最終的にはVariableインスタンスで帰ってくる"
   ]
  },
  {
   "cell_type": "markdown",
   "metadata": {},
   "source": [
    "### 掛け算も実装してみる"
   ]
  },
  {
   "cell_type": "code",
   "execution_count": 20,
   "metadata": {},
   "outputs": [],
   "source": [
    "class Add(Function):\n",
    "    def forward(self, x0, x1):\n",
    "        # x0, x1 = xs\n",
    "        y = x0 + x1\n",
    "        # yのまま返していい\n",
    "        return y"
   ]
  },
  {
   "cell_type": "code",
   "execution_count": 21,
   "metadata": {},
   "outputs": [],
   "source": [
    "#  classをdef にしていて 下のセルを実行するときにMultipl() missing 1 required positional argument: 'Function'のエラーが消えなかった\n",
    "# defだと継承ではなく引数としてFunctionが見られるのでargument missingしていた\n",
    "\n",
    "class Multipl(Function):\n",
    "    def forward(self, x0, x1):\n",
    "        y = x0 * x1\n",
    "        return y\n",
    "    \n",
    "def multipl(x0, x1):\n",
    "    return Multipl()(x0,x1)"
   ]
  },
  {
   "cell_type": "code",
   "execution_count": 22,
   "metadata": {},
   "outputs": [
    {
     "name": "stdout",
     "output_type": "stream",
     "text": [
      "6\n"
     ]
    }
   ],
   "source": [
    "x0 = Variable(np.array(2))\n",
    "x1 = Variable(np.array(3))\n",
    "y = multipl(x0, x1)\n",
    "print(y.data)"
   ]
  },
  {
   "cell_type": "markdown",
   "metadata": {},
   "source": [
    "### 可変長の引数逆伝播編"
   ]
  },
  {
   "cell_type": "code",
   "execution_count": 38,
   "metadata": {},
   "outputs": [],
   "source": [
    "class Add(Function):\n",
    "    def forward(self, x0, x1):\n",
    "        y = x0 + x1\n",
    "        return y\n",
    "    \n",
    "    # 足し算ではそのまま返す\n",
    "    def backward(self, gy):\n",
    "        return gy, gy"
   ]
  },
  {
   "cell_type": "code",
   "execution_count": 27,
   "metadata": {},
   "outputs": [
    {
     "ename": "TypeError",
     "evalue": "unsupported operand type(s) for ** or pow(): 'tuple' and 'int'",
     "output_type": "error",
     "traceback": [
      "\u001b[0;31m---------------------------------------------------------------------------\u001b[0m",
      "\u001b[0;31mTypeError\u001b[0m                                 Traceback (most recent call last)",
      "\u001b[0;32m<ipython-input-27-77a27a1e9fd6>\u001b[0m in \u001b[0;36m<module>\u001b[0;34m\u001b[0m\n\u001b[1;32m      1\u001b[0m \u001b[0ma\u001b[0m \u001b[0;34m=\u001b[0m \u001b[0;34m(\u001b[0m\u001b[0;36m1\u001b[0m\u001b[0;34m,\u001b[0m \u001b[0;36m2\u001b[0m\u001b[0;34m,\u001b[0m \u001b[0;36m3\u001b[0m\u001b[0;34m)\u001b[0m\u001b[0;34m\u001b[0m\u001b[0;34m\u001b[0m\u001b[0m\n\u001b[1;32m      2\u001b[0m \u001b[0mf\u001b[0m \u001b[0;34m=\u001b[0m \u001b[0;32mlambda\u001b[0m \u001b[0mx\u001b[0m\u001b[0;34m:\u001b[0m \u001b[0mx\u001b[0m\u001b[0;34m**\u001b[0m\u001b[0;36m2\u001b[0m\u001b[0;34m\u001b[0m\u001b[0;34m\u001b[0m\u001b[0m\n\u001b[0;32m----> 3\u001b[0;31m \u001b[0mf\u001b[0m\u001b[0;34m(\u001b[0m\u001b[0ma\u001b[0m\u001b[0;34m)\u001b[0m\u001b[0;34m\u001b[0m\u001b[0;34m\u001b[0m\u001b[0m\n\u001b[0m",
      "\u001b[0;32m<ipython-input-27-77a27a1e9fd6>\u001b[0m in \u001b[0;36m<lambda>\u001b[0;34m(x)\u001b[0m\n\u001b[1;32m      1\u001b[0m \u001b[0ma\u001b[0m \u001b[0;34m=\u001b[0m \u001b[0;34m(\u001b[0m\u001b[0;36m1\u001b[0m\u001b[0;34m,\u001b[0m \u001b[0;36m2\u001b[0m\u001b[0;34m,\u001b[0m \u001b[0;36m3\u001b[0m\u001b[0;34m)\u001b[0m\u001b[0;34m\u001b[0m\u001b[0;34m\u001b[0m\u001b[0m\n\u001b[0;32m----> 2\u001b[0;31m \u001b[0mf\u001b[0m \u001b[0;34m=\u001b[0m \u001b[0;32mlambda\u001b[0m \u001b[0mx\u001b[0m\u001b[0;34m:\u001b[0m \u001b[0mx\u001b[0m\u001b[0;34m**\u001b[0m\u001b[0;36m2\u001b[0m\u001b[0;34m\u001b[0m\u001b[0;34m\u001b[0m\u001b[0m\n\u001b[0m\u001b[1;32m      3\u001b[0m \u001b[0mf\u001b[0m\u001b[0;34m(\u001b[0m\u001b[0ma\u001b[0m\u001b[0;34m)\u001b[0m\u001b[0;34m\u001b[0m\u001b[0;34m\u001b[0m\u001b[0m\n",
      "\u001b[0;31mTypeError\u001b[0m: unsupported operand type(s) for ** or pow(): 'tuple' and 'int'"
     ]
    }
   ],
   "source": [
    "a = (1, 2, 3)\n",
    "f = lambda x: x**2\n",
    "f(a)"
   ]
  },
  {
   "cell_type": "code",
   "execution_count": 66,
   "metadata": {},
   "outputs": [],
   "source": [
    "class Variable:\n",
    "    def __init__(self, data):\n",
    "        # 例外処理を入れる　ndarray以外のものが入ったらTypeError\n",
    "        if data is not None:\n",
    "            if not isinstance(data, np.ndarray):\n",
    "                raise TypeError('{} is not supported'.format(type(data)))\n",
    "        \n",
    "        self.data = data\n",
    "        self.grad = None\n",
    "        self.creator = None\n",
    "    \n",
    "    def set_creator(self, func):\n",
    "        self.creator = func\n",
    "\n",
    "    def backward(self):\n",
    "        if self.grad == None:\n",
    "            self.grad = np.ones_like(self.data)\n",
    "        \n",
    "        funcs = [self.creator]\n",
    "        print(len(funcs))\n",
    "        \n",
    "        while funcs:\n",
    "            f = funcs.pop()  \n",
    "            gys = [output.grad for output in f.outputs]\n",
    "            print('type(gys)', type(gys))\n",
    "            gxs = f.backward(*gys)\n",
    "            print('type(gxs)', type(gxs))\n",
    "            if not isinstance(gxs, tuple):\n",
    "                gxs = (gxs, )\n",
    "            print(f.inputs)   \n",
    "            for x, gx in zip(f.inputs, gxs):\n",
    "                print('x', x.data)\n",
    "                print('type(x)',type(x))\n",
    "                print('type(gx)',type(gx))\n",
    "                x.grad = gx\n",
    "            \n",
    "                if x.creator is not None:\n",
    "                    funcs.append(x.creator)  # add the creator of the previous function to  the list\n"
   ]
  },
  {
   "cell_type": "code",
   "execution_count": 67,
   "metadata": {},
   "outputs": [],
   "source": [
    "# Suquare暮らすの実装\n",
    "\n",
    "class Square(Function):\n",
    "    def forward(self, x):\n",
    "        y = x**2\n",
    "        return y\n",
    "        \n",
    "    def backward(self, gy):\n",
    "        x = self.inputs[0].data  \n",
    "        gx = 2*x*gy\n",
    "        return gx\n",
    "    "
   ]
  },
  {
   "cell_type": "code",
   "execution_count": 68,
   "metadata": {},
   "outputs": [],
   "source": [
    "def square(x):\n",
    "    f = Square()\n",
    "    return f(x)\n",
    "# return Square()(x)  でも可\n",
    "\n",
    "def exp(x):\n",
    "    f = Exp()\n",
    "    return f(x)\n",
    "# return Exp()(x)  でも可\n",
    "    "
   ]
  },
  {
   "cell_type": "code",
   "execution_count": 69,
   "metadata": {},
   "outputs": [
    {
     "name": "stdout",
     "output_type": "stream",
     "text": [
      "[array(2.)]\n",
      "[array(3.)]\n",
      "[array(4.), array(9.)]\n",
      "1\n",
      "type(gys) <class 'list'>\n",
      "type(gxs) <class 'tuple'>\n",
      "(<__main__.Variable object at 0x11a7097d0>, <__main__.Variable object at 0x11a709750>)\n",
      "x 4.0\n",
      "type(x) <class '__main__.Variable'>\n",
      "type(gx) <class 'numpy.ndarray'>\n",
      "x 9.0\n",
      "type(x) <class '__main__.Variable'>\n",
      "type(gx) <class 'numpy.ndarray'>\n",
      "type(gys) <class 'list'>\n",
      "type(gxs) <class 'numpy.float64'>\n",
      "(<__main__.Variable object at 0x11a700510>,)\n",
      "x 3.0\n",
      "type(x) <class '__main__.Variable'>\n",
      "type(gx) <class 'numpy.float64'>\n",
      "type(gys) <class 'list'>\n",
      "type(gxs) <class 'numpy.float64'>\n",
      "(<__main__.Variable object at 0x11a700850>,)\n",
      "x 2.0\n",
      "type(x) <class '__main__.Variable'>\n",
      "type(gx) <class 'numpy.float64'>\n",
      "13.0\n",
      "4.0\n",
      "6.0\n"
     ]
    }
   ],
   "source": [
    "x = Variable(np.array(2.0))\n",
    "y = Variable(np.array(3.0))\n",
    "\n",
    "z = add(square(x), square(y))\n",
    "z.backward()\n",
    "print(z.data)\n",
    "print(x.grad)\n",
    "print(y.grad)"
   ]
  },
  {
   "cell_type": "markdown",
   "metadata": {},
   "source": [
    "### 同じ変数を繰り返し使う"
   ]
  },
  {
   "cell_type": "code",
   "execution_count": 71,
   "metadata": {},
   "outputs": [],
   "source": [
    "class Variable:\n",
    "    def __init__(self, data):\n",
    "        # 例外処理を入れる　ndarray以外のものが入ったらTypeError\n",
    "        if data is not None:\n",
    "            if not isinstance(data, np.ndarray):\n",
    "                raise TypeError('{} is not supported'.format(type(data)))\n",
    "        \n",
    "        self.data = data\n",
    "        self.grad = None\n",
    "        self.creator = None\n",
    "    \n",
    "    def set_creator(self, func):\n",
    "        self.creator = func\n",
    "\n",
    "    def backward(self):\n",
    "        if self.grad == None:\n",
    "            self.grad = np.ones_like(self.data)\n",
    "        \n",
    "        funcs = [self.creator]\n",
    "        \n",
    "        while funcs:\n",
    "            f = funcs.pop()  \n",
    "            gys = [output.grad for output in f.outputs]\n",
    "            gxs = f.backward(*gys)\n",
    "            if not isinstance(gxs, tuple):\n",
    "                gxs = (gxs, )  \n",
    "                \n",
    "            for x, gx in zip(f.inputs, gxs):\n",
    "                if x.grad is None:\n",
    "                    x.grad = gx\n",
    "                else:\n",
    "                    x.grad = x.grad+gx\n",
    "            \n",
    "                if x.creator is not None:\n",
    "                    funcs.append(x.creator) \n"
   ]
  },
  {
   "cell_type": "code",
   "execution_count": 72,
   "metadata": {},
   "outputs": [
    {
     "name": "stdout",
     "output_type": "stream",
     "text": [
      "[array(3.), array(3.)]\n",
      "2.0\n"
     ]
    }
   ],
   "source": [
    "x = Variable(np.array(3.0))\n",
    "y = add(x,x)\n",
    "y.backward()\n",
    "\n",
    "print(x.grad)"
   ]
  },
  {
   "cell_type": "code",
   "execution_count": 73,
   "metadata": {},
   "outputs": [
    {
     "name": "stdout",
     "output_type": "stream",
     "text": [
      "[array(3.), array(3.)]\n",
      "[array(6.), array(3.)]\n",
      "3.0\n"
     ]
    }
   ],
   "source": [
    "x = Variable(np.array(3.0))\n",
    "y = add(add(x,x), x)\n",
    "y.backward()\n",
    "\n",
    "print(x.grad)"
   ]
  },
  {
   "cell_type": "markdown",
   "metadata": {},
   "source": [
    "### 微分のリセット"
   ]
  },
  {
   "cell_type": "code",
   "execution_count": 74,
   "metadata": {},
   "outputs": [
    {
     "name": "stdout",
     "output_type": "stream",
     "text": [
      "[array(3.), array(3.)]\n",
      "2.0\n",
      "[array(3.), array(3.)]\n",
      "[array(6.), array(3.)]\n",
      "5.0\n"
     ]
    }
   ],
   "source": [
    "# ①回目の計算\n",
    "x = Variable(np.array(3.0))\n",
    "y = add(x,x)\n",
    "y.backward()\n",
    "\n",
    "print(x.grad)\n",
    "\n",
    "\n",
    "# ②回めの計算\n",
    "y = add(add(x,x), x)\n",
    "y.backward()\n",
    "\n",
    "print(x.grad)\n",
    "\n",
    "# 2回目の微分は①回目の微分に加算されている\n",
    "# 防ぐために、gradを初期化するメソッドを追加"
   ]
  },
  {
   "cell_type": "code",
   "execution_count": 75,
   "metadata": {},
   "outputs": [],
   "source": [
    "class Variable:\n",
    "    def __init__(self, data):\n",
    "        # 例外処理を入れる　ndarray以外のものが入ったらTypeError\n",
    "        if data is not None:\n",
    "            if not isinstance(data, np.ndarray):\n",
    "                raise TypeError('{} is not supported'.format(type(data)))\n",
    "        \n",
    "        self.data = data\n",
    "        self.grad = None\n",
    "        self.creator = None\n",
    "    \n",
    "    def set_creator(self, func):\n",
    "        self.creator = func\n",
    "\n",
    "    def backward(self):\n",
    "        if self.grad == None:\n",
    "            self.grad = np.ones_like(self.data)\n",
    "        \n",
    "        funcs = [self.creator]\n",
    "        \n",
    "        while funcs:\n",
    "            f = funcs.pop()  \n",
    "            gys = [output.grad for output in f.outputs]\n",
    "            gxs = f.backward(*gys)\n",
    "            if not isinstance(gxs, tuple):\n",
    "                gxs = (gxs, )  \n",
    "                \n",
    "            for x, gx in zip(f.inputs, gxs):\n",
    "                if x.grad is None:\n",
    "                    x.grad = gx\n",
    "                else:\n",
    "                    x.grad = x.grad+gx\n",
    "            \n",
    "                if x.creator is not None:\n",
    "                    funcs.append(x.creator) \n",
    "                    \n",
    "    def cleargrad(self):\n",
    "        self.grad = None"
   ]
  },
  {
   "cell_type": "code",
   "execution_count": 76,
   "metadata": {},
   "outputs": [
    {
     "name": "stdout",
     "output_type": "stream",
     "text": [
      "[array(3.), array(3.)]\n",
      "2.0\n",
      "[array(3.), array(3.)]\n",
      "[array(6.), array(3.)]\n",
      "3.0\n"
     ]
    }
   ],
   "source": [
    "# ①回目の計算\n",
    "x = Variable(np.array(3.0))\n",
    "y = add(x,x)\n",
    "y.backward()\n",
    "\n",
    "print(x.grad)\n",
    "\n",
    "\n",
    "# ②回めの計算 初めに使い回す変数のgradを初期化する\n",
    "x.cleargrad()\n",
    "y = add(add(x,x), x)\n",
    "y.backward()\n",
    "\n",
    "print(x.grad)"
   ]
  },
  {
   "cell_type": "markdown",
   "metadata": {},
   "source": [
    "### 枝分かれしてつながるような複雑な計算グラフでbackwardができるようにするために世代を追加する"
   ]
  },
  {
   "cell_type": "code",
   "execution_count": 78,
   "metadata": {},
   "outputs": [],
   "source": [
    "class Variable:\n",
    "    def __init__(self, data):\n",
    "        if data is not None:\n",
    "            if not isinstance(data, np.ndarray):\n",
    "                raise TypeError('{} is not supported'.format(type(data)))\n",
    "        \n",
    "        self.data = data\n",
    "        self.grad = None\n",
    "        self.creator = None\n",
    "        self.generation = 0　　# 世代を追加\n",
    "    \n",
    "    def set_creator(self, func):\n",
    "        self.creator = func\n",
    "        self.genaration = func.generation +1  # 親の世代＋１を代入\n",
    "        \n",
    "    def backward(self):\n",
    "        if self.grad == None:\n",
    "            self.grad = np.ones_like(self.data)\n",
    "        \n",
    "        funcs = [self.creator]\n",
    "        \n",
    "        while funcs:\n",
    "            f = funcs.pop()  \n",
    "            gys = [output.grad for output in f.outputs]\n",
    "            gxs = f.backward(*gys)\n",
    "            if not isinstance(gxs, tuple):\n",
    "                gxs = (gxs, )  \n",
    "                \n",
    "            for x, gx in zip(f.inputs, gxs):\n",
    "                if x.grad is None:\n",
    "                    x.grad = gx\n",
    "                else:\n",
    "                    x.grad = x.grad+gx\n",
    "            \n",
    "                if x.creator is not None:\n",
    "                    funcs.append(x.creator) \n",
    "                    \n",
    "    def cleargrad(self):\n",
    "        self.grad = None\n",
    "    "
   ]
  },
  {
   "cell_type": "code",
   "execution_count": 108,
   "metadata": {},
   "outputs": [],
   "source": [
    "class Function:\n",
    "    def __call__(self, *inputs):   \n",
    "        xs = [x.data for x in inputs]\n",
    "        print(xs)\n",
    "        ys = self.forward(*xs)  \n",
    "        if not isinstance(ys, tuple):\n",
    "            ys = (ys,)\n",
    "        outputs = [Variable(as_array(y)) for y in ys]\n",
    "        \n",
    "        self.generation = max([x.generation for x in inputs])  # すべてのinputの世代をリストにして最大を求める\n",
    "        \n",
    "        for output in outputs:\n",
    "            output.set_creator(self)\n",
    "        self.inputs = inputs\n",
    "        self.outputs = outputs\n",
    "                \n",
    "        return outputs if len(outputs) > 1 else outputs[0]\n",
    "\n",
    "    \n",
    "    def forward(self, xs):\n",
    "        raise NotImplementedError()\n",
    "        \n",
    "    def backward(self, gys):\n",
    "        raise NotImplementedError()"
   ]
  },
  {
   "cell_type": "code",
   "execution_count": 95,
   "metadata": {},
   "outputs": [
    {
     "data": {
      "text/plain": [
       "[2, 0, 1, 4, 2]"
      ]
     },
     "execution_count": 95,
     "metadata": {},
     "output_type": "execute_result"
    }
   ],
   "source": [
    "generations = [2,0,1,4,2]\n",
    "funcs = []\n",
    "\n",
    "for g in generations:\n",
    "    f = Function()  # ダミーの関数クラス\n",
    "    f.generation = g\n",
    "    funcs.append(f)\n",
    "\n",
    "[f.generation for f in funcs]"
   ]
  },
  {
   "cell_type": "code",
   "execution_count": 96,
   "metadata": {},
   "outputs": [
    {
     "data": {
      "text/plain": [
       "[0, 1, 2, 2, 4]"
      ]
     },
     "execution_count": 96,
     "metadata": {},
     "output_type": "execute_result"
    }
   ],
   "source": [
    "# funcsを並び替える\n",
    "funcs.sort(key=lambda x: x.generation)\n",
    "[f.generation for f in funcs]"
   ]
  },
  {
   "cell_type": "code",
   "execution_count": 97,
   "metadata": {},
   "outputs": [
    {
     "data": {
      "text/plain": [
       "4"
      ]
     },
     "execution_count": 97,
     "metadata": {},
     "output_type": "execute_result"
    }
   ],
   "source": [
    "# popで後ろ関数を取り出す\n",
    "f = funcs.pop()\n",
    "f.generation"
   ]
  },
  {
   "cell_type": "code",
   "execution_count": 122,
   "metadata": {},
   "outputs": [],
   "source": [
    "class Variable:\n",
    "    def __init__(self, data):\n",
    "        if data is not None:\n",
    "            if not isinstance(data, np.ndarray):\n",
    "                raise TypeError('{} is not supported'.format(type(data)))\n",
    "\n",
    "        self.data = data\n",
    "        self.grad = None\n",
    "        self.creator = None\n",
    "        self.generation = 0\n",
    "\n",
    "    def set_creator(self, func):\n",
    "        self.creator = func\n",
    "        self.generation = func.generation + 1\n",
    "\n",
    "    def cleargrad(self):\n",
    "        self.grad = None\n",
    "\n",
    "    def backward(self):\n",
    "        if self.grad is None:\n",
    "            self.grad = np.ones_like(self.data)\n",
    "\n",
    "        funcs = []\n",
    "        seen_set = set()\n",
    "\n",
    "        def add_func(f):\n",
    "            if f not in seen_set:\n",
    "                funcs.append(f)\n",
    "                seen_set.add(f)\n",
    "                funcs.sort(key=lambda x: x.generation)\n",
    "\n",
    "        add_func(self.creator)\n",
    "\n",
    "        while funcs:\n",
    "            f = funcs.pop()\n",
    "            gys = [output.grad for output in f.outputs]\n",
    "            gxs = f.backward(*gys)\n",
    "            if not isinstance(gxs, tuple):\n",
    "                gxs = (gxs,)\n",
    "\n",
    "            for x, gx in zip(f.inputs, gxs):\n",
    "                if x.grad is None:\n",
    "                    x.grad = gx\n",
    "                else:\n",
    "                    x.grad = x.grad + gx\n",
    "\n",
    "                if x.creator is not None:\n",
    "                    add_func(x.creator)"
   ]
  },
  {
   "cell_type": "code",
   "execution_count": 123,
   "metadata": {},
   "outputs": [
    {
     "name": "stdout",
     "output_type": "stream",
     "text": [
      "32.0\n",
      "64.0\n"
     ]
    }
   ],
   "source": [
    "class Add(Function):\n",
    "    def forward(self, x0, x1):\n",
    "        y = x0 + x1\n",
    "        return y\n",
    "    \n",
    "    # 足し算ではそのまま返す\n",
    "    def backward(self, gy):\n",
    "        return gy, gy\n",
    "    \n",
    "class Square(Function):\n",
    "    def forward(self, x):\n",
    "        y = x**2\n",
    "        return y\n",
    "        \n",
    "    def backward(self, gy):\n",
    "        x = self.inputs[0].data  \n",
    "        gx = 2*x*gy\n",
    "        return gx\n",
    "    \n",
    "def square(x):\n",
    "    f = Square()\n",
    "    return f(x)\n",
    "# return Square()(x)  でも可\n",
    "\n",
    "def exp(x):\n",
    "    f = Exp()\n",
    "    return f(x)\n",
    "\n",
    "def add(x0, x1):\n",
    "    return Add()(x0, x1)\n",
    "\n",
    "    \n",
    "x = Variable(np.array(2.0))\n",
    "a = square(x)\n",
    "y = add(square(a), square(a))\n",
    "y.backward()\n",
    "\n",
    "print(y.data)\n",
    "print(x.grad)"
   ]
  },
  {
   "cell_type": "code",
   "execution_count": 120,
   "metadata": {},
   "outputs": [
    {
     "name": "stdout",
     "output_type": "stream",
     "text": [
      "32.0\n",
      "64.0\n"
     ]
    }
   ],
   "source": [
    "import numpy as np\n",
    "\n",
    "\n",
    "class Variable:\n",
    "    def __init__(self, data):\n",
    "        if data is not None:\n",
    "            if not isinstance(data, np.ndarray):\n",
    "                raise TypeError('{} is not supported'.format(type(data)))\n",
    "\n",
    "        self.data = data\n",
    "        self.grad = None\n",
    "        self.creator = None\n",
    "        self.generation = 0\n",
    "\n",
    "    def set_creator(self, func):\n",
    "        self.creator = func\n",
    "        self.generation = func.generation + 1\n",
    "\n",
    "    def cleargrad(self):\n",
    "        self.grad = None\n",
    "\n",
    "    def backward(self):\n",
    "        if self.grad is None:\n",
    "            self.grad = np.ones_like(self.data)\n",
    "\n",
    "        funcs = []\n",
    "        seen_set = set()\n",
    "\n",
    "        def add_func(f):\n",
    "            if f not in seen_set:\n",
    "                funcs.append(f)\n",
    "                seen_set.add(f)\n",
    "                funcs.sort(key=lambda x: x.generation)\n",
    "\n",
    "        add_func(self.creator)\n",
    "\n",
    "        while funcs:\n",
    "            f = funcs.pop()\n",
    "            gys = [output.grad for output in f.outputs]\n",
    "            gxs = f.backward(*gys)\n",
    "            if not isinstance(gxs, tuple):\n",
    "                gxs = (gxs,)\n",
    "\n",
    "            for x, gx in zip(f.inputs, gxs):\n",
    "                if x.grad is None:\n",
    "                    x.grad = gx\n",
    "                else:\n",
    "                    x.grad = x.grad + gx\n",
    "\n",
    "                if x.creator is not None:\n",
    "                    add_func(x.creator)\n",
    "\n",
    "\n",
    "def as_array(x):\n",
    "    if np.isscalar(x):\n",
    "        return np.array(x)\n",
    "    return x\n",
    "\n",
    "\n",
    "class Function:\n",
    "    def __call__(self, *inputs):\n",
    "        xs = [x.data for x in inputs]\n",
    "        ys = self.forward(*xs)\n",
    "        if not isinstance(ys, tuple):\n",
    "            ys = (ys,)\n",
    "        outputs = [Variable(as_array(y)) for y in ys]\n",
    "\n",
    "        self.generation = max([x.generation for x in inputs])\n",
    "        for output in outputs:\n",
    "            output.set_creator(self)\n",
    "        self.inputs = inputs\n",
    "        self.outputs = outputs\n",
    "        return outputs if len(outputs) > 1 else outputs[0]\n",
    "\n",
    "    def forward(self, xs):\n",
    "        raise NotImplementedError()\n",
    "\n",
    "    def backward(self, gys):\n",
    "        raise NotImplementedError()\n",
    "\n",
    "\n",
    "class Square(Function):\n",
    "    def forward(self, x):\n",
    "        y = x ** 2\n",
    "        return y\n",
    "\n",
    "    def backward(self, gy):\n",
    "        x = self.inputs[0].data\n",
    "        gx = 2 * x * gy\n",
    "        return gx\n",
    "\n",
    "\n",
    "def square(x):\n",
    "    return Square()(x)\n",
    "\n",
    "\n",
    "class Add(Function):\n",
    "    def forward(self, x0, x1):\n",
    "        y = x0 + x1\n",
    "        return y\n",
    "\n",
    "    def backward(self, gy):\n",
    "        return gy, gy\n",
    "\n",
    "\n",
    "def add(x0, x1):\n",
    "    return Add()(x0, x1)\n",
    "\n",
    "\n",
    "x = Variable(np.array(2.0))\n",
    "a = square(x)\n",
    "y = add(square(a), square(a))\n",
    "y.backward()\n",
    "\n",
    "print(y.data)\n",
    "print(x.grad)"
   ]
  },
  {
   "cell_type": "code",
   "execution_count": null,
   "metadata": {},
   "outputs": [],
   "source": []
  }
 ],
 "metadata": {
  "kernelspec": {
   "display_name": "Python 3",
   "language": "python",
   "name": "python3"
  },
  "language_info": {
   "codemirror_mode": {
    "name": "ipython",
    "version": 3
   },
   "file_extension": ".py",
   "mimetype": "text/x-python",
   "name": "python",
   "nbconvert_exporter": "python",
   "pygments_lexer": "ipython3",
   "version": "3.7.4"
  }
 },
 "nbformat": 4,
 "nbformat_minor": 2
}
